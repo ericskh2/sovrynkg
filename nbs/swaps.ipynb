{
 "cells": [
  {
   "cell_type": "code",
   "execution_count": 1,
   "id": "a89b1cb1-ada8-4418-a7cb-fe755ab38251",
   "metadata": {},
   "outputs": [],
   "source": [
    "import sys\n",
    "import os\n",
    "sys.path.append(os.path.abspath(\"..\"))"
   ]
  },
  {
   "cell_type": "code",
   "execution_count": 2,
   "id": "43e20d1e-9351-4d95-b728-2d100a6cb0f7",
   "metadata": {},
   "outputs": [],
   "source": [
    "# default_exp swaps\n",
    "# hide\n",
    "_FNAME='swaps'\n",
    "\n",
    "import unittest\n",
    "from unittest import mock\n",
    "from nbdev.export import notebook2script\n",
    "import os\n",
    "TESTCASE = unittest.TestCase()\n",
    "_nbpath = os.path.join(_dh[0], _FNAME+'.ipynb')"
   ]
  },
  {
   "cell_type": "code",
   "execution_count": 3,
   "id": "e5f7bc8c-556c-4713-be37-a571033f7028",
   "metadata": {},
   "outputs": [],
   "source": [
    "#export\n",
    "import pandas as pd\n",
    "import numpy as np\n",
    "from sovrynkg.knowledge_graph import Query\n",
    "from sovrynkg.contracts import whatis\n",
    "\n",
    "def get_swap_df(skip=None, limit=None):\n",
    "    q = Query()\n",
    "    q.add(\"MATCH (b:Block)-[]->(:Transaction)-[]->()-[calls:CALLS]->(amm:Contract) \")\n",
    "    q.add(\"WHERE amm.address='0x98ace08d2b759a265ae326f010496bcd63c15afc'\")\n",
    "    q.add(\"RETURN b.signed_at as signed_at,\")\n",
    "    q.add(\"\"\"\n",
    "    calls._toAmount as to_amount, \n",
    "    calls._fromAmount as from_amount,\n",
    "    calls._toToken as to_token,\n",
    "    calls._fromToken as from_token,\n",
    "    calls._smartToken as smart_token,\n",
    "    calls._trader as trader\n",
    "    \"\"\")\n",
    "    if skip:\n",
    "        q.add(\"SKIP {}\".format(skip))\n",
    "    if limit:\n",
    "        q.add(\"LIMIT {}\".format(limit))\n",
    "              \n",
    "    swaps = q.data()\n",
    "    df = pd.DataFrame(swaps)\n",
    "    df['signed_at'] = pd.to_datetime(df['signed_at'])\n",
    "    \n",
    "    \n",
    "    df['to_token'] = df.apply(lambda row: lookup_token_name(row, 'to_token'), axis='columns')\n",
    "    df['from_token'] = df.apply(lambda row: lookup_token_name(row, 'from_token'), axis='columns')\n",
    "    df['trader'] = df.apply(lambda row: lookup_token_name(row, 'trader'), axis='columns')\n",
    "    \n",
    "    df['to_amount'] = df.to_amount.astype(np.double)\n",
    "    df['from_amount'] = df.from_amount.astype(np.double)\n",
    "    return df\n",
    "\n",
    "def lookup_token_name(row, col_name):\n",
    "    address = row[col_name]\n",
    "    matching_tokens = whatis(address)\n",
    "    if matching_tokens:\n",
    "        return matching_tokens[0].name\n",
    "    else:\n",
    "        return address"
   ]
  },
  {
   "cell_type": "code",
   "execution_count": 4,
   "id": "21634154-0606-43f7-b274-051b3adc766a",
   "metadata": {},
   "outputs": [
    {
     "name": "stdout",
     "output_type": "stream",
     "text": [
      "Converted swaps.ipynb.\n"
     ]
    }
   ],
   "source": [
    "notebook2script(_nbpath)"
   ]
  }
 ],
 "metadata": {
  "kernelspec": {
   "display_name": "Python 3 (ipykernel)",
   "language": "python",
   "name": "python3"
  },
  "language_info": {
   "codemirror_mode": {
    "name": "ipython",
    "version": 3
   },
   "file_extension": ".py",
   "mimetype": "text/x-python",
   "name": "python",
   "nbconvert_exporter": "python",
   "pygments_lexer": "ipython3",
   "version": "3.8.19"
  }
 },
 "nbformat": 4,
 "nbformat_minor": 5
}
