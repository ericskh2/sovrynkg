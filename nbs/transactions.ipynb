{
 "cells": [
  {
   "cell_type": "code",
   "execution_count": 1,
   "id": "091bbec8-5a40-41a3-843e-e5494d8e45c1",
   "metadata": {},
   "outputs": [],
   "source": [
    "import sys\n",
    "import os\n",
    "sys.path.append(os.path.abspath(\"..\"))"
   ]
  },
  {
   "cell_type": "code",
   "execution_count": 2,
   "id": "5e9649a5-9cd7-42f0-9b72-bddc09187ff5",
   "metadata": {},
   "outputs": [],
   "source": [
    "# default_exp transactions\n",
    "# hide\n",
    "_FNAME='transactions'\n",
    "\n",
    "import unittest\n",
    "from unittest import mock\n",
    "from nbdev.export import notebook2script\n",
    "import os\n",
    "TESTCASE = unittest.TestCase()\n",
    "_nbpath = os.path.join(_dh[0], _FNAME+'.ipynb')\n"
   ]
  },
  {
   "cell_type": "code",
   "execution_count": 3,
   "id": "5aea736c-5036-4eff-a3eb-dcbc83dbc924",
   "metadata": {},
   "outputs": [],
   "source": [
    "#export\n",
    "import time\n",
    "import os\n",
    "import json\n",
    "from functools import partial\n",
    "\n",
    "from pathlib import Path\n",
    "import covalent_api.constants as constants\n",
    "import covalent_api as cov\n",
    "from covalent_api.class_a import ClassA, constants\n",
    "\n",
    "from sovrynkg.contracts import whatis, BY_NAME\n",
    "\n",
    "RSK_CHAIN_ID = '30' #rsk\n",
    "protocol = BY_NAME['sovrynProtocol']\n",
    "\n",
    "class MustProvideCovalentAPIKey(Exception):\n",
    "    pass\n",
    "\n",
    "def classa_factory():\n",
    "    constants.AVAILABLE_CHAIN_IDS['RSK Mainnet'] = RSK_CHAIN_ID\n",
    "    api_key = os.environ.get('COVALENT_API_KEY', None)\n",
    "    if not api_key:\n",
    "        raise MustProvideCovalentAPIKey(\"Must set environment variable COVALENT_API_KEY\")\n",
    "    sess = cov.Session(api_key=api_key, timeout=15)\n",
    "    sess._request.auth = (sess._api_key, '')\n",
    "    return ClassA(sess)    \n",
    "\n",
    "CLASSA = classa_factory()"
   ]
  },
  {
   "cell_type": "code",
   "execution_count": 4,
   "id": "51f61493-6b8e-4d81-aa38-13bd2c4095d6",
   "metadata": {},
   "outputs": [],
   "source": [
    "#export\n",
    "def get_num_results(result):\n",
    "    return len(result['data']['items'])\n",
    "\n",
    "def get_block_height(result, index=-1):\n",
    "    return result['data']['items'][index]['block_height']\n",
    "\n",
    "def save_result_to_file(result, page_number, directory):\n",
    "    first_block = get_block_height(result, index=0)\n",
    "    last_block = get_block_height(result, index=-1)\n",
    "    fname = 'result.{fb}__{lb}'.format(fb=first_block, lb=last_block)\n",
    "\n",
    "    Path(directory).mkdir(exist_ok=True, parents=True)\n",
    "    with open(os.path.join(directory, fname), 'w') as f:\n",
    "        json.dump(result, f, indent=2)\n",
    "\n",
    "def max_pages_exceeded(pages, max_pages):\n",
    "    if max_pages is None:\n",
    "        return False\n",
    "    return pages>max_pages\n",
    "        \n",
    "def paginate(partial_func, page_size=10000, page_number=0, max_pages=10000, save_in_dir=None, in_memory=True):\n",
    "    '''\n",
    "    Create a partial function that accepts page_number and page_size kwargs\n",
    "    '''\n",
    "    num_results = None\n",
    "    keep_going = True \n",
    "    results = []\n",
    "    files_saved = 0\n",
    "    pages_retrieved = 0\n",
    "    \n",
    "    while keep_going and not max_pages_exceeded(pages_retrieved, max_pages):\n",
    "        result = partial_func(page_number=page_number, page_size=page_size)\n",
    "        pages_retrieved += 1\n",
    "        \n",
    "        if result['error']:\n",
    "            keep_going = False\n",
    "            return result\n",
    "        else:\n",
    "            num_results = get_num_results(result)\n",
    "        \n",
    "        if num_results == 0:\n",
    "            keep_going = False\n",
    "        else: #deal with results\n",
    "            print(\"Got {num_results} results for page {pn}\".format(num_results=num_results, pn=page_number))\n",
    "            block_height = result['data']['items'][-1]['block_height']\n",
    "            \n",
    "            print(\"Block height {}\".format(block_height))\n",
    "            if in_memory:\n",
    "                results.append(result)\n",
    "\n",
    "            if save_in_dir:\n",
    "                save_result_to_file(result=result, page_number=page_number, directory=save_in_dir)\n",
    "                files_saved += 1                    \n",
    "                    \n",
    "            page_number += 1\n",
    "            time.sleep(0.1)\n",
    "                    \n",
    "    if in_memory:\n",
    "        return results\n",
    "    else:\n",
    "        return page_number\n",
    "    \n",
    "def get_transactions(address, **kwargs):\n",
    "    partial_func = partial(CLASSA.get_transactions,\n",
    "                           chain_id=RSK_CHAIN_ID, address=address)\n",
    "    return paginate(partial_func, **kwargs)"
   ]
  },
  {
   "cell_type": "markdown",
   "id": "282658f0-9691-402a-b571-4d272b23ad78",
   "metadata": {},
   "source": [
    "To get transactions\n",
    "```python\n",
    "pages = get_transactions(address=protocol.address, page_size=5, max_pages=1)\n",
    "```\n",
    "or for a bigger harvest\n",
    "```python\n",
    "get_transactions(address=protocol.address, page_size=500, max_pages=None, save_in_dir='protocol_transactions', in_memory=False)\n",
    "```"
   ]
  },
  {
   "cell_type": "code",
   "execution_count": null,
   "id": "b2f50cdc-848f-444c-9727-c1b9145b0cd1",
   "metadata": {},
   "outputs": [],
   "source": []
  },
  {
   "cell_type": "code",
   "execution_count": 5,
   "id": "5854cc07-135a-4ee4-9595-a7e5c89d0dff",
   "metadata": {},
   "outputs": [],
   "source": [
    "#import yaml\n",
    "#with open('testtransactions.yaml') as f:\n",
    "#    pages = yaml.safe_load(f)\n",
    "    \n",
    "pages = [\n",
    "    {'data': {'items':[\n",
    "\n",
    "        {'block_height': 3502536,\n",
    " 'block_signed_at': '2021-07-09T16:36:00Z',\n",
    " 'from_address': '0xd01c33b8d585eb8617791449d847d31767a5723a',\n",
    " 'from_address_label': None,\n",
    " 'gas_offered': 2500000,\n",
    " 'gas_price': 71680400,\n",
    " 'gas_quote': 0.12745898634319577,\n",
    " 'gas_quote_rate': 2162.3291015625,\n",
    " 'gas_spent': 822334,\n",
    " 'successful': True,\n",
    " 'to_address': '0x5a0d867e0d70fcc6ade25c3f1b89d618b5b4eaa7',\n",
    " 'to_address_label': None,\n",
    " 'tx_hash': '0x5ef38a4e6944f6dc1511ae77f34e2dfbefd588b36c79a477d37b7e7b0aa43a66',\n",
    " 'tx_offset': 0,\n",
    " 'value': '0',\n",
    " 'value_quote': 0.0,\n",
    " 'log_events': [\n",
    "     {'_raw_log_topics_bytes': None,\n",
    " 'block_height': 3502536,\n",
    " 'block_signed_at': '2021-07-09T16:36:00Z',\n",
    " 'decoded': None,\n",
    " 'log_offset': 26,\n",
    " 'raw_log_data': '0x00000000000000000000000000000000000000000000000000001ec08ab86504',\n",
    " 'raw_log_topics': ['0xc44aeefa68e8b9c1ad5f7be4b0dd194580f81f5c362862e72196503a320eb7a1',\n",
    "  '0x000000000000000000000000542fda317318ebf1d3deaf76e0b632741a7e677d',\n",
    "  '0x000000000000000000000000d01c33b8d585eb8617791449d847d31767a5723a'],\n",
    " 'sender_address': '0x5a0d867e0d70fcc6ade25c3f1b89d618b5b4eaa7',\n",
    " 'sender_address_label': None,\n",
    " 'sender_contract_decimals': None,\n",
    " 'sender_contract_ticker_symbol': None,\n",
    " 'sender_logo_url': None,\n",
    " 'sender_name': None,\n",
    " 'tx_hash': '0x5ef38a4e6944f6dc1511ae77f34e2dfbefd588b36c79a477d37b7e7b0aa43a66',\n",
    " 'tx_offset': 0},\n",
    "{'_raw_log_topics_bytes': None,\n",
    " 'block_height': 3502536,\n",
    " 'block_signed_at': '2021-07-09T16:36:00Z',\n",
    " 'decoded': {'name': 'Withdrawal',\n",
    "  'params': [{'decoded': True,\n",
    "    'indexed': True,\n",
    "    'name': 'src',\n",
    "    'type': 'address',\n",
    "    'value': '0x5a0d867e0d70fcc6ade25c3f1b89d618b5b4eaa7'},\n",
    "   {'decoded': True,\n",
    "    'indexed': False,\n",
    "    'name': 'wad',\n",
    "    'type': 'uint256',\n",
    "    'value': '33812309894404'}],\n",
    "  'signature': 'Withdrawal(indexed address src, uint256 wad)'},\n",
    " 'log_offset': 25,\n",
    " 'raw_log_data': '0x00000000000000000000000000000000000000000000000000001ec08ab86504',\n",
    " 'raw_log_topics': ['0x7fcf532c15f0a6db0bd6d0e038bea71d30d808c7d98cb3bf7268a95bf5081b65',\n",
    "  '0x0000000000000000000000005a0d867e0d70fcc6ade25c3f1b89d618b5b4eaa7'],\n",
    " 'sender_address': '0x542fda317318ebf1d3deaf76e0b632741a7e677d',\n",
    " 'sender_address_label': None,\n",
    " 'sender_contract_decimals': 18,\n",
    " 'sender_contract_ticker_symbol': 'WRBTC',\n",
    " 'sender_logo_url': '',\n",
    " 'sender_name': 'Wrapped BTC',\n",
    " 'tx_hash': '0x5ef38a4e6944f6dc1511ae77f34e2dfbefd588b36c79a477d37b7e7b0aa43a66',\n",
    " 'tx_offset': 0}    \n",
    " ]}\n",
    "    ]}}\n",
    "]"
   ]
  },
  {
   "cell_type": "markdown",
   "id": "11d91abf-d568-4d23-8d25-c96388d3e24a",
   "metadata": {},
   "source": [
    "Anatomy of the results returned from pagination.\n",
    "\n",
    "\n",
    "List. Each entry is one page."
   ]
  },
  {
   "cell_type": "code",
   "execution_count": 6,
   "id": "476277ce-d540-4cea-823f-c8cb73a094d1",
   "metadata": {},
   "outputs": [
    {
     "data": {
      "text/plain": [
       "dict_keys(['data'])"
      ]
     },
     "execution_count": 6,
     "metadata": {},
     "output_type": "execute_result"
    }
   ],
   "source": [
    "firstpage = pages[0]\n",
    "firstpage.keys()"
   ]
  },
  {
   "cell_type": "code",
   "execution_count": 7,
   "id": "c3d97ff5-923a-4ab5-8f07-5759a8c7912a",
   "metadata": {},
   "outputs": [
    {
     "data": {
      "text/plain": [
       "dict_keys(['items'])"
      ]
     },
     "execution_count": 7,
     "metadata": {},
     "output_type": "execute_result"
    }
   ],
   "source": [
    "data = firstpage['data']\n",
    "data.keys()"
   ]
  },
  {
   "cell_type": "code",
   "execution_count": 8,
   "id": "63bba78e-415d-4da4-8e8d-24d208337a59",
   "metadata": {},
   "outputs": [
    {
     "data": {
      "text/plain": [
       "{'block_height': 3502536,\n",
       " 'block_signed_at': '2021-07-09T16:36:00Z',\n",
       " 'from_address': '0xd01c33b8d585eb8617791449d847d31767a5723a',\n",
       " 'from_address_label': None,\n",
       " 'gas_offered': 2500000,\n",
       " 'gas_price': 71680400,\n",
       " 'gas_quote': 0.12745898634319577,\n",
       " 'gas_quote_rate': 2162.3291015625,\n",
       " 'gas_spent': 822334,\n",
       " 'successful': True,\n",
       " 'to_address': '0x5a0d867e0d70fcc6ade25c3f1b89d618b5b4eaa7',\n",
       " 'to_address_label': None,\n",
       " 'tx_hash': '0x5ef38a4e6944f6dc1511ae77f34e2dfbefd588b36c79a477d37b7e7b0aa43a66',\n",
       " 'tx_offset': 0,\n",
       " 'value': '0',\n",
       " 'value_quote': 0.0,\n",
       " 'log_events': [{'_raw_log_topics_bytes': None,\n",
       "   'block_height': 3502536,\n",
       "   'block_signed_at': '2021-07-09T16:36:00Z',\n",
       "   'decoded': None,\n",
       "   'log_offset': 26,\n",
       "   'raw_log_data': '0x00000000000000000000000000000000000000000000000000001ec08ab86504',\n",
       "   'raw_log_topics': ['0xc44aeefa68e8b9c1ad5f7be4b0dd194580f81f5c362862e72196503a320eb7a1',\n",
       "    '0x000000000000000000000000542fda317318ebf1d3deaf76e0b632741a7e677d',\n",
       "    '0x000000000000000000000000d01c33b8d585eb8617791449d847d31767a5723a'],\n",
       "   'sender_address': '0x5a0d867e0d70fcc6ade25c3f1b89d618b5b4eaa7',\n",
       "   'sender_address_label': None,\n",
       "   'sender_contract_decimals': None,\n",
       "   'sender_contract_ticker_symbol': None,\n",
       "   'sender_logo_url': None,\n",
       "   'sender_name': None,\n",
       "   'tx_hash': '0x5ef38a4e6944f6dc1511ae77f34e2dfbefd588b36c79a477d37b7e7b0aa43a66',\n",
       "   'tx_offset': 0},\n",
       "  {'_raw_log_topics_bytes': None,\n",
       "   'block_height': 3502536,\n",
       "   'block_signed_at': '2021-07-09T16:36:00Z',\n",
       "   'decoded': {'name': 'Withdrawal',\n",
       "    'params': [{'decoded': True,\n",
       "      'indexed': True,\n",
       "      'name': 'src',\n",
       "      'type': 'address',\n",
       "      'value': '0x5a0d867e0d70fcc6ade25c3f1b89d618b5b4eaa7'},\n",
       "     {'decoded': True,\n",
       "      'indexed': False,\n",
       "      'name': 'wad',\n",
       "      'type': 'uint256',\n",
       "      'value': '33812309894404'}],\n",
       "    'signature': 'Withdrawal(indexed address src, uint256 wad)'},\n",
       "   'log_offset': 25,\n",
       "   'raw_log_data': '0x00000000000000000000000000000000000000000000000000001ec08ab86504',\n",
       "   'raw_log_topics': ['0x7fcf532c15f0a6db0bd6d0e038bea71d30d808c7d98cb3bf7268a95bf5081b65',\n",
       "    '0x0000000000000000000000005a0d867e0d70fcc6ade25c3f1b89d618b5b4eaa7'],\n",
       "   'sender_address': '0x542fda317318ebf1d3deaf76e0b632741a7e677d',\n",
       "   'sender_address_label': None,\n",
       "   'sender_contract_decimals': 18,\n",
       "   'sender_contract_ticker_symbol': 'WRBTC',\n",
       "   'sender_logo_url': '',\n",
       "   'sender_name': 'Wrapped BTC',\n",
       "   'tx_hash': '0x5ef38a4e6944f6dc1511ae77f34e2dfbefd588b36c79a477d37b7e7b0aa43a66',\n",
       "   'tx_offset': 0}]}"
      ]
     },
     "execution_count": 8,
     "metadata": {},
     "output_type": "execute_result"
    }
   ],
   "source": [
    "items = data['items']\n",
    "items[0]"
   ]
  },
  {
   "cell_type": "code",
   "execution_count": 9,
   "id": "0545b5cf-5efb-4734-a1c6-ba38540030ae",
   "metadata": {},
   "outputs": [],
   "source": [
    "import sha3\n",
    "def keccak(inputstr):\n",
    "    encoded = inputstr.encode()\n",
    "    keccak = sha3.keccak_256()\n",
    "    keccak.update(encoded)\n",
    "    return keccak.hexdigest()\n",
    "\n",
    "#https://codeburst.io/deep-dive-into-ethereum-logs-a8d2047c7371\n",
    "TESTCASE.assertEqual('ddf252ad1be2c89b69c2b068fc378daa952ba7f163c4a11628f55a4df523b3ef',\n",
    "                     keccak('Transfer(address,address,uint256)'))"
   ]
  },
  {
   "cell_type": "markdown",
   "id": "1d57050e-3b41-427d-8890-2b5d378c3eb7",
   "metadata": {},
   "source": [
    "Withdrawl abi from [Wrapped BTC](https://explorer.rsk.co/address/0x542fda317318ebf1d3deaf76e0b632741a7e677d?__ctab=Code)\n",
    "```json\n",
    "  {\n",
    "    \"anonymous\": false,\n",
    "    \"inputs\": [\n",
    "      {\n",
    "        \"indexed\": true,\n",
    "        \"internalType\": \"address\",\n",
    "        \"name\": \"src\",\n",
    "        \"type\": \"address\"\n",
    "      },\n",
    "      {\n",
    "        \"indexed\": false,\n",
    "        \"internalType\": \"uint256\",\n",
    "        \"name\": \"wad\",\n",
    "        \"type\": \"uint256\"\n",
    "      }\n",
    "    ],\n",
    "    \"name\": \"Withdrawal\",\n",
    "    \"type\": \"event\"\n",
    "  }\n",
    "```"
   ]
  },
  {
   "cell_type": "markdown",
   "id": "f48b987b-b7bc-4306-bb7c-fa064071b775",
   "metadata": {},
   "source": [
    "## Re-create this known topic"
   ]
  },
  {
   "cell_type": "code",
   "execution_count": 10,
   "id": "23225faf-86f4-4ebf-a938-9d1019831089",
   "metadata": {},
   "outputs": [
    {
     "data": {
      "text/plain": [
       "'7fcf532c15f0a6db0bd6d0e038bea71d30d808c7d98cb3bf7268a95bf5081b65'"
      ]
     },
     "execution_count": 10,
     "metadata": {},
     "output_type": "execute_result"
    }
   ],
   "source": [
    "keccak('Withdrawal(address,uint256)')"
   ]
  },
  {
   "cell_type": "code",
   "execution_count": 11,
   "id": "81f01fde-aa3d-4332-9b0b-ef6ad6705b04",
   "metadata": {},
   "outputs": [
    {
     "data": {
      "text/plain": [
       "'0x7fcf532c15f0a6db0bd6d0e038bea71d30d808c7d98cb3bf7268a95bf5081b65'"
      ]
     },
     "execution_count": 11,
     "metadata": {},
     "output_type": "execute_result"
    }
   ],
   "source": [
    "#logs[1]['raw_log_topics'][0]\n",
    "'0x7fcf532c15f0a6db0bd6d0e038bea71d30d808c7d98cb3bf7268a95bf5081b65'"
   ]
  },
  {
   "cell_type": "markdown",
   "id": "9b1ab660-0fc9-4478-881b-223b531117c5",
   "metadata": {},
   "source": [
    "## Re-create a topic from the SoV source code"
   ]
  },
  {
   "cell_type": "code",
   "execution_count": 12,
   "id": "d9210527-3dc4-40a2-b7ec-adb09c2af07b",
   "metadata": {},
   "outputs": [
    {
     "data": {
      "text/plain": [
       "'0eef4f90457a741c97d76fcf13fa231fefdcc7649bdb3cb49157c37111c98433'"
      ]
     },
     "execution_count": 12,
     "metadata": {},
     "output_type": "execute_result"
    }
   ],
   "source": [
    "delegated_manager_set='DelegatedManagerSet(bytes32,address,address,bool)'\n",
    "keccak(delegated_manager_set)"
   ]
  },
  {
   "cell_type": "markdown",
   "id": "a6237461-b267-4bdb-b770-a20d770e45c7",
   "metadata": {},
   "source": [
    "```js\n",
    "/// topic0: 0x0eef4f90457a741c97d76fcf13fa231fefdcc7649bdb3cb49157c37111c98433\n",
    "event DelegatedManagerSet(bytes32 indexed loanId, address indexed delegator, address indexed delegated, bool isActive);\n",
    "```"
   ]
  },
  {
   "cell_type": "markdown",
   "id": "f878a0f1-55e9-4720-a348-237bb572d8dc",
   "metadata": {},
   "source": [
    "## Calculate unknown topics from the sov source code"
   ]
  },
  {
   "cell_type": "code",
   "execution_count": 13,
   "id": "03f41c5c-1037-46f3-a5b2-93eb9cafcc24",
   "metadata": {},
   "outputs": [
    {
     "data": {
      "text/plain": [
       "'b4eb3c9b62efcce7021cba5fd9cd0c44df91c2272806ccc5e57df7c912e8d716'"
      ]
     },
     "execution_count": 13,
     "metadata": {},
     "output_type": "execute_result"
    }
   ],
   "source": [
    "loanswap = 'LoanSwap(bytes32,address,address,address,uint256,uint256)'\n",
    "keccak(loanswap)"
   ]
  },
  {
   "cell_type": "code",
   "execution_count": 14,
   "id": "086ca238-27aa-4288-aee8-da6a602e1108",
   "metadata": {},
   "outputs": [
    {
     "name": "stdout",
     "output_type": "stream",
     "text": [
      "Converted transactions.ipynb.\n"
     ]
    }
   ],
   "source": [
    "notebook2script(_nbpath)"
   ]
  },
  {
   "cell_type": "code",
   "execution_count": null,
   "id": "172fe38b-aa43-45c4-9ed0-cac529e62a90",
   "metadata": {},
   "outputs": [],
   "source": []
  },
  {
   "cell_type": "code",
   "execution_count": 15,
   "id": "ff7b996f-df7b-4386-acc6-2e7eb420739d",
   "metadata": {},
   "outputs": [
    {
     "name": "stdout",
     "output_type": "stream",
     "text": [
      "Got 5 results for page 0\n",
      "Block height 6337811\n",
      "Got 5 results for page 1\n",
      "Block height 6337514\n",
      "Got 5 results for page 2\n",
      "Block height 6336763\n",
      "Got 5 results for page 3\n",
      "Block height 6336711\n",
      "Got 5 results for page 4\n",
      "Block height 6336476\n",
      "Got 5 results for page 5\n",
      "Block height 6336031\n"
     ]
    },
    {
     "data": {
      "text/plain": [
       "6"
      ]
     },
     "execution_count": 15,
     "metadata": {},
     "output_type": "execute_result"
    }
   ],
   "source": [
    "# test\n",
    "get_transactions(address=protocol.address, page_size=5, max_pages=5, save_in_dir='protocol_transactions', in_memory=False)\n",
    "# get_transactions(address=protocol.address, page_size=500, max_pages=None, save_in_dir='protocol_transactions', in_memory=False)"
   ]
  },
  {
   "cell_type": "code",
   "execution_count": null,
   "id": "69c1216b-8354-4422-b9d2-9fb22be8c053",
   "metadata": {},
   "outputs": [],
   "source": []
  }
 ],
 "metadata": {
  "kernelspec": {
   "display_name": "Python 3 (ipykernel)",
   "language": "python",
   "name": "python3"
  },
  "language_info": {
   "codemirror_mode": {
    "name": "ipython",
    "version": 3
   },
   "file_extension": ".py",
   "mimetype": "text/x-python",
   "name": "python",
   "nbconvert_exporter": "python",
   "pygments_lexer": "ipython3",
   "version": "3.8.19"
  }
 },
 "nbformat": 4,
 "nbformat_minor": 5
}
